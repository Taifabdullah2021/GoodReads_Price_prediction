{
 "cells": [
  {
   "cell_type": "markdown",
   "metadata": {},
   "source": [
    "# Book Prices scrapping from BookFinder"
   ]
  },
  {
   "cell_type": "code",
   "execution_count": null,
   "metadata": {},
   "outputs": [],
   "source": [
    "import requests\n",
    "import time, os\n",
    "import pandas as pd\n",
    "import numpy as np\n",
    "from bs4 import BeautifulSoup\n",
    "from selenium import webdriver\n",
    "from selenium.webdriver.common.keys import Keys\n",
    "from selenium.common.exceptions import NoSuchElementException\n",
    "chromedriver = \"C:/Users/Hp/Desktop/chromedriver.exe\" # path to the chromedriver executable\n",
    "os.environ[\"webdriver.chrome.driver\"] = chromedriver"
   ]
  },
  {
   "cell_type": "code",
   "execution_count": null,
   "metadata": {},
   "outputs": [],
   "source": [
    "chromeOptions = webdriver.ChromeOptions()\n",
    "prefs = {\"profile.managed_default_content_settings.images\": 2}\n",
    "chromeOptions.add_experimental_option(\"prefs\", prefs)\n",
    "driver = webdriver.Chrome(chromedriver, chrome_options=chromeOptions)\n",
    "driver.get(\"https://www.bookfinder.com/search/?keywords=0062024027&currency=SAR&destination=sa&mode=isbn&lang=en&st=sh&ac=qr&submit=\")"
   ]
  },
  {
   "cell_type": "code",
   "execution_count": null,
   "metadata": {},
   "outputs": [],
   "source": [
    "df =pd.read_excel(r'2016_books_2.xlsx', engine='openpyxl')"
   ]
  },
  {
   "cell_type": "markdown",
   "metadata": {},
   "source": [
    "## Getting the Books ISBN numbers"
   ]
  },
  {
   "cell_type": "code",
   "execution_count": null,
   "metadata": {},
   "outputs": [],
   "source": [
    "isbn_array=df_2013['ISBN']\n",
    "isbn_array"
   ]
  },
  {
   "cell_type": "markdown",
   "metadata": {},
   "source": [
    "## Looping through the ISBN and searching for the prices for each ISBN"
   ]
  },
  {
   "cell_type": "code",
   "execution_count": null,
   "metadata": {},
   "outputs": [],
   "source": [
    "price_ = []\n",
    "from selenium.common.exceptions import NoSuchElementException\n",
    "for i in range(len(isbn_array)):\n",
    "    \n",
    "    search_box = driver.find_element_by_xpath('//*[@id=\"header-search-form-input\"]')\n",
    "    #clear the current search\n",
    "    search_box.clear()\n",
    "    #input new search\n",
    "    search_box.send_keys(isbn_array[i])\n",
    "    #hit enter\n",
    "    search_box.send_keys(Keys.RETURN)  \n",
    "    time.sleep(1)\n",
    "    \n",
    "\n",
    "    try:\n",
    "        price = driver.find_element_by_xpath('//*[@id=\"bd-isbn\"]/div/table/tbody/tr/td[1]/table/tbody/tr[2]/td[4]/div/span/a')\n",
    "        price_.append(price.text)\n",
    "\n",
    "    except NoSuchElementException:\n",
    "        \n",
    "        price_.append('Not found')\n"
   ]
  },
  {
   "cell_type": "markdown",
   "metadata": {},
   "source": [
    "## Saving it into a Dictionary"
   ]
  },
  {
   "cell_type": "code",
   "execution_count": null,
   "metadata": {},
   "outputs": [],
   "source": [
    "dict_={}\n",
    "dict_[\"ISBN\"] = isbn_array\n",
    "dict_[\"Price\"] = price_\n",
    "dict_"
   ]
  },
  {
   "cell_type": "code",
   "execution_count": null,
   "metadata": {},
   "outputs": [],
   "source": [
    "import pandas as pd\n",
    "book_prices_dataframe = pd.DataFrame(dict_)\n",
    "book_prices_dataframe"
   ]
  },
  {
   "cell_type": "markdown",
   "metadata": {},
   "source": [
    "## Saving it into a CSV"
   ]
  },
  {
   "cell_type": "code",
   "execution_count": null,
   "metadata": {},
   "outputs": [],
   "source": [
    "book_prices_dataframe.to_csv(\"book_prices\",index=False)"
   ]
  }
 ],
 "metadata": {
  "kernelspec": {
   "display_name": "Python 3",
   "language": "python",
   "name": "python3"
  },
  "language_info": {
   "codemirror_mode": {
    "name": "ipython",
    "version": 3
   },
   "file_extension": ".py",
   "mimetype": "text/x-python",
   "name": "python",
   "nbconvert_exporter": "python",
   "pygments_lexer": "ipython3",
   "version": "3.8.10"
  }
 },
 "nbformat": 4,
 "nbformat_minor": 4
}
