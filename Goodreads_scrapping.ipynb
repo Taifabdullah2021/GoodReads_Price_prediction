{
 "cells": [
  {
   "cell_type": "markdown",
   "metadata": {},
   "source": [
    "# GoodReads scraping awards data"
   ]
  },
  {
   "cell_type": "code",
   "execution_count": null,
   "metadata": {},
   "outputs": [],
   "source": [
    "from bs4 import BeautifulSoup\n",
    "import requests\n",
    "import time, os\n",
    "from selenium import webdriver\n",
    "from selenium.webdriver.common.keys import Keys\n",
    "import numpy as np\n",
    "import pandas as pd\n",
    "from selenium.webdriver.common.action_chains import ActionChains\n",
    "\n",
    "chromedriver = \"C:/Users/Hp/Desktop/chromedriver.exe\" \n",
    "os.environ[\"webdriver.chrome.driver\"] = chromedriver"
   ]
  },
  {
   "cell_type": "code",
   "execution_count": null,
   "metadata": {},
   "outputs": [],
   "source": [
    "chromeOptions = webdriver.ChromeOptions()\n",
    "prefs = {\"profile.managed_default_content_settings.images\": 2}\n",
    "chromeOptions.add_experimental_option(\"prefs\", prefs)\n",
    "driver = webdriver.Chrome(chromedriver, chrome_options=chromeOptions)\n",
    "driver.get(\"https://www.goodreads.com/choiceawards/best-fiction-books-2019\")"
   ]
  },
  {
   "cell_type": "markdown",
   "metadata": {},
   "source": [
    "# Function bookInfo to get each book's information"
   ]
  },
  {
   "cell_type": "code",
   "execution_count": null,
   "metadata": {},
   "outputs": [],
   "source": [
    "def bookInfo():\n",
    "    # Title\n",
    "    Book_title= driver.find_element_by_xpath('//*[@id=\"bookTitle\"]').text\n",
    "    title.append(Book_title)\n",
    "    \n",
    "    # Author\n",
    "    Author_name = driver.find_element_by_xpath('//*[@id=\"bookAuthors\"]/span[2]/div/a/span').text #Author_name\n",
    "    author.append(Author_name)\n",
    "    \n",
    "    \n",
    "    # Number of Pages\n",
    "    no_pages= driver.find_element_by_xpath('//span[@itemprop=\"numberOfPages\"]')  #pages\n",
    "    pages = np.int((no_pages.text).replace(' ','').replace('pages',''))    \n",
    "    page.append(pages)\n",
    "    \n",
    "    # Year\n",
    "    \n",
    "    year = driver.find_element_by_xpath('//*[@id=\"details\"]/div[2]').text \n",
    "    year_.append(year.split(' ')[4-1])\n",
    "\n",
    "    \n",
    "    # Click More Details\n",
    "    driver.find_element_by_xpath('//*[@id=\"bookDataBoxShow\"]').click()\n",
    "    \n",
    "\n",
    "        # ISBN\n",
    "    ISBN = driver.find_element_by_xpath('//*[@id=\"bookDataBox\"]/div[2]/div[2]').text\n",
    "    ISBN_.append(ISBN[:10])\n",
    "    \n",
    "    \n",
    "    # Number of Ratings\n",
    "    no_ratings = driver.find_element_by_xpath('//*[@id=\"bookMeta\"]/a[2]').text #ratings\n",
    "    ratings = np.int(no_ratings.replace('ratings','').replace(' ','').replace(',',''))\n",
    "    rating.append(ratings)\n",
    "    \n",
    "    \n",
    "    # Rating Average\n",
    "    avg_rating = np.float(driver.find_element_by_xpath('//*[@id=\"bookMeta\"]/span[2]').text) #avg_rating\n",
    "    average_r.append(avg_rating)\n",
    "    \n",
    "    \n",
    "    # Click Rating Details\n",
    "    button = driver.find_element_by_xpath('//*[@id=\"rating_details\"]')\n",
    "    driver.implicitly_wait(10)\n",
    "    ActionChains(driver).move_to_element(button).click(button).perform()\n",
    "    \n",
    "        \n",
    "        # Added by\n",
    "    added= np.int(driver.find_element_by_xpath('//*[@id=\"moreBookData\"]/table[2]/tbody/tr[1]/td[2]/span[4]').text)\n",
    "    added_by.append(added)\n",
    "    \n",
    "    \n",
    "        # Liked by %\n",
    "    liked= (np.float(driver.find_element_by_xpath('//*[@id=\"moreBookData\"]/span').text))/100 #liked\n",
    "    liked_by.append(liked)\n",
    "    \n",
    "        # Number of reviews (comments)\n",
    "    review= np.int(driver.find_element_by_xpath('//*[@id=\"moreBookData\"]/table[2]/tbody/tr[1]/td[2]/span[3]').text)\n",
    "    review_.append(review)"
   ]
  },
  {
   "cell_type": "markdown",
   "metadata": {},
   "source": [
    "# To get the links for each Genre"
   ]
  },
  {
   "cell_type": "code",
   "execution_count": null,
   "metadata": {},
   "outputs": [],
   "source": [
    "soup = BeautifulSoup(driver.page_source, 'html.parser')\n",
    "link_for_each_genre= []\n",
    "p_tags = soup.find_all('a',class_=\"categoriesList__categoryLink\")\n",
    "for i,p_tags in enumerate(p_tags):\n",
    "    link_for_each_genre.append(p_tags.get('href'))    \n",
    "link_for_each_genre"
   ]
  },
  {
   "cell_type": "markdown",
   "metadata": {},
   "source": [
    "# Loop for getting the books information from a whole year (All Genres)"
   ]
  },
  {
   "cell_type": "code",
   "execution_count": null,
   "metadata": {},
   "outputs": [],
   "source": [
    "votes = []\n",
    "title = [] \n",
    "author = [] \n",
    "page = []\n",
    "ISBN_ = []\n",
    "rating = []\n",
    "average_r = []\n",
    "added_by = []\n",
    "liked_by = []\n",
    "year_ = []\n",
    "list_=[]\n",
    "review_=[]\n",
    "\n",
    "\n",
    "for i in range(0,len(link_for_each_genre)):\n",
    "    \n",
    "    element =  driver.find_element_by_xpath(f\"//a[@href='{link_for_each_genre[i]}']\")\n",
    "    driver.execute_script(\"arguments[0].click();\", element)\n",
    "    \n",
    "    book_tags=[]\n",
    "    soup = BeautifulSoup(driver.page_source, 'html.parser')\n",
    "    book_tags = soup.find_all('a',class_=\"pollAnswer__bookLink\")\n",
    "    link_for_each_book= []\n",
    "    \n",
    "    for j,book_tags in enumerate(book_tags):\n",
    "        link_for_each_book.append(book_tags.get('href'))    \n",
    "    \n",
    "    p_tags=[]   \n",
    "    soup = BeautifulSoup(driver.page_source, 'html.parser')\n",
    "    p_tags = soup.find_all('strong',class_=\"uitext\")\n",
    "        \n",
    "    for e,p_tags in enumerate(p_tags): \n",
    "        votes.append(p_tags.text)\n",
    "    \n",
    "    \n",
    "    for k in range(0,len(link_for_each_book)):\n",
    "        \n",
    "        element =  driver.find_element_by_xpath(f\"//a[@href='{link_for_each_book[k]}']\")\n",
    "        driver.execute_script(\"arguments[0].click();\", element)\n",
    "        bookInfo()\n",
    "        driver.back()\n",
    "        driver.implicitly_wait(10)\n",
    "        driver.execute_script(\"window.scrollTo(0, window.scrollY + 60)\")\n",
    "    \n",
    "\n",
    "        #votes = [np.int(i) for i in votes] "
   ]
  },
  {
   "cell_type": "markdown",
   "metadata": {},
   "source": [
    "## Cleaning votes "
   ]
  },
  {
   "cell_type": "code",
   "execution_count": null,
   "metadata": {},
   "outputs": [],
   "source": [
    "votes_=[]\n",
    "for e in votes:\n",
    "    votes_.append(e.replace('\\n','').replace('votes','').replace(',',''))"
   ]
  },
  {
   "cell_type": "markdown",
   "metadata": {},
   "source": [
    "# Saving"
   ]
  },
  {
   "cell_type": "markdown",
   "metadata": {},
   "source": [
    "## Saving the information in a Dictionary"
   ]
  },
  {
   "cell_type": "code",
   "execution_count": null,
   "metadata": {},
   "outputs": [],
   "source": [
    "GR_dict_ ={}\n",
    "GR_dict_[\"Title\"] = title\n",
    "GR_dict_[\"Author\"]= author\n",
    "GR_dict_[\"ISBN\"] = ISBN_\n",
    "GR_dict_[\"Year\"]= year_\n",
    "GR_dict_[\"Pages\"] = page\n",
    "GR_dict_[\"No of Rating\"] = rating\n",
    "GR_dict_[\"Avg Rating\"]= average_r\n",
    "GR_dict_[\"Added by \"] = added_by\n",
    "GR_dict_[\"Liked by \"] = liked_by\n",
    "GR_dict_[\"Reviews\"]= review_\n",
    "GR_dict_[\"Votes\"]= votes_"
   ]
  },
  {
   "cell_type": "markdown",
   "metadata": {},
   "source": [
    "## Saving information in a dataframe"
   ]
  },
  {
   "cell_type": "code",
   "execution_count": null,
   "metadata": {
    "scrolled": true
   },
   "outputs": [],
   "source": [
    "df_ = pd.DataFrame(GR_dict_)\n",
    "df_"
   ]
  },
  {
   "cell_type": "markdown",
   "metadata": {},
   "source": [
    "## Saving the dataframe as a CSV"
   ]
  },
  {
   "cell_type": "code",
   "execution_count": null,
   "metadata": {},
   "outputs": [],
   "source": [
    "df_.to_csv(\"GoodReads_Awards_dataset\",index=False)"
   ]
  }
 ],
 "metadata": {
  "kernelspec": {
   "display_name": "Python 3",
   "language": "python",
   "name": "python3"
  },
  "language_info": {
   "codemirror_mode": {
    "name": "ipython",
    "version": 3
   },
   "file_extension": ".py",
   "mimetype": "text/x-python",
   "name": "python",
   "nbconvert_exporter": "python",
   "pygments_lexer": "ipython3",
   "version": "3.8.10"
  }
 },
 "nbformat": 4,
 "nbformat_minor": 4
}
